{
 "cells": [
  {
   "cell_type": "markdown",
   "metadata": {
    "collapsed": true
   },
   "source": [
    "# Votaciones Diputados Argentina Data Discovery"
   ]
  },
  {
   "cell_type": "markdown",
   "metadata": {},
   "source": [
    "En este Jupyter Notebook, vamos a descubrir metadata sobre el dataset de las votaciones de legisladores argentinos. En este [link](https://github.com/nahuelhds/votaciones-diputados-argentina) se pueden encontrar más detalles sobre esto."
   ]
  },
  {
   "cell_type": "markdown",
   "metadata": {},
   "source": [
    "## Data Discovery\n",
    "Para explorar los datos se utilizará [Pandas](https://pandas.pydata.org/), una librería de Python muy conocida. "
   ]
  },
  {
   "cell_type": "markdown",
   "metadata": {},
   "source": [
    "Antes de empezar, algunos imports..."
   ]
  },
  {
   "cell_type": "code",
   "execution_count": 96,
   "metadata": {},
   "outputs": [],
   "source": [
    "import os\n",
    "import urllib.request\n",
    "import pandas as pd\n",
    "import plotly as py"
   ]
  },
  {
   "cell_type": "markdown",
   "metadata": {},
   "source": [
    "Y se declaran algunas variables útiles:"
   ]
  },
  {
   "cell_type": "code",
   "execution_count": 97,
   "metadata": {},
   "outputs": [],
   "source": [
    "import_directory = os.path.join(\"/tmp\", \"datasets\", \"votaciones\")\n",
    "\n",
    "dataset_base_url = \"https://raw.githubusercontent.com/nahuelhds/votaciones-diputados-argentina\"\n",
    "dataset_path = \"/master/data/csv/\"\n",
    "full_path = dataset_base_url + dataset_path\n",
    "\n",
    "# You can use as many datasets as you want here. They'll all be cached in your file system.\n",
    "datasets = [\n",
    "    \"votaciones_votos-2015.csv\",\n",
    "    \"votaciones_votos-2016.csv\",\n",
    "    \"votaciones_votos-2017.csv\",\n",
    "    \"votaciones_votos-2018.csv\"\n",
    "]"
   ]
  },
  {
   "cell_type": "markdown",
   "metadata": {},
   "source": [
    "# Dataset Metadata"
   ]
  },
  {
   "cell_type": "markdown",
   "metadata": {},
   "source": [
    "Generamos metadata temporal sobre los datasets. Esta metadata es útil a la hora de descargar y cachear los datasets en el file system."
   ]
  },
  {
   "cell_type": "code",
   "execution_count": 98,
   "metadata": {},
   "outputs": [],
   "source": [
    "\n",
    "# { dataset: { url: http://..., file_name: /tmp/datasets/...} }\n",
    "datasets_metadata = {}\n",
    "\n",
    "# Populate dataset metadata.\n",
    "for dataset in datasets:\n",
    "    dataset_file_name = os.path.join(import_directory, dataset)\n",
    "    dataset_url = full_path + dataset\n",
    "    datasets_metadata.update({dataset: {\n",
    "        'url': dataset_url,\n",
    "        'file_name': dataset_file_name\n",
    "    }})"
   ]
  },
  {
   "cell_type": "markdown",
   "metadata": {},
   "source": [
    "# Descarga de Datasets en carpeta temporal"
   ]
  },
  {
   "cell_type": "code",
   "execution_count": 111,
   "metadata": {},
   "outputs": [],
   "source": [
    "def download_dataset( dataset_url, file_name):\n",
    "    print(\"Downloading \" + dataset_url + \" into \" + file_name)\n",
    "    urllib.request.urlretrieve(dataset_url, file_name)"
   ]
  },
  {
   "cell_type": "code",
   "execution_count": 100,
   "metadata": {},
   "outputs": [],
   "source": [
    "def download_datasets():\n",
    "    print(\"Downloading Datasets from \" + full_path)\n",
    "    for dataset in datasets:\n",
    "        dataset_metadata = datasets_metadata[dataset]\n",
    "        download_dataset(dataset_metadata.get('url'), dataset_metadata.get('file_name'))\n",
    "    print(\"Datasets downloaded\")\n"
   ]
  },
  {
   "cell_type": "code",
   "execution_count": 101,
   "metadata": {},
   "outputs": [],
   "source": [
    "def load_datasets():\n",
    "    dfs = []\n",
    "    for dataset in datasets:\n",
    "        dataset_filename = datasets_metadata[dataset].get('file_name')\n",
    "        if not dfs:\n",
    "            # first dataset with the headers\n",
    "            df = pd.read_csv(dataset_filename)\n",
    "        else:\n",
    "            # the rest without headers\n",
    "            df = pd.read_csv(dataset_filename, index_col=None, header=0)\n",
    "        dfs.append(df)\n",
    "    final_df = pd.concat(dfs, axis=0, ignore_index=True)\n",
    "    return final_df"
   ]
  },
  {
   "cell_type": "markdown",
   "metadata": {},
   "source": [
    "# Creamos carpeta temporal si no existe y descargamos los datasets"
   ]
  },
  {
   "cell_type": "code",
   "execution_count": 102,
   "metadata": {},
   "outputs": [],
   "source": [
    "if not os.path.isdir(import_directory):\n",
    "    print(\"Creating tmp directory\")\n",
    "    os.makedirs(import_directory)\n",
    "    download_datasets()"
   ]
  },
  {
   "cell_type": "markdown",
   "metadata": {},
   "source": [
    "# Simple Visualizacion de los Datasets"
   ]
  },
  {
   "cell_type": "code",
   "execution_count": 103,
   "metadata": {},
   "outputs": [
    {
     "name": "stdout",
     "output_type": "stream",
     "text": [
      "##### Votos de ejemplo:#######\n",
      "       id  voting_id  legislador_id                         legislador  \\\n",
      "0  458450       1785           1156  ABDALA DE MATARAZZO, Norma Amanda   \n",
      "1  458451       1785           1337                 ABRAHAM, Alejandro   \n",
      "2  458452       1785            930                  AGUAD, Oscar Raúl   \n",
      "3  458453       1785           1247               AGUILAR, Lino Walter   \n",
      "4  458454       1785           1338             ALEGRE, Gilberto Oscar   \n",
      "\n",
      "   bloque_id                        bloque  provincia_id            provincia  \\\n",
      "0        119    Frente Cívico por Santiago            22  Santiago del Estero   \n",
      "1          1  Frente para la Victoria - PJ            13              Mendoza   \n",
      "2          6          Unión Cívica Radical             3              Córdoba   \n",
      "3        197            Compromiso Federal            19             San Luis   \n",
      "4         85              Frente Renovador             1         Buenos Aires   \n",
      "\n",
      "         voto  \n",
      "0  AFIRMATIVO  \n",
      "1  AFIRMATIVO  \n",
      "2     AUSENTE  \n",
      "3     AUSENTE  \n",
      "4     AUSENTE  \n",
      "\n",
      "#######Resumen del dataset######\n",
      "<class 'pandas.core.frame.DataFrame'>\n",
      "RangeIndex: 124131 entries, 0 to 124130\n",
      "Data columns (total 9 columns):\n",
      "id               124131 non-null int64\n",
      "voting_id        124131 non-null int64\n",
      "legislador_id    124131 non-null int64\n",
      "legislador       124131 non-null object\n",
      "bloque_id        124131 non-null int64\n",
      "bloque           124085 non-null object\n",
      "provincia_id     124131 non-null int64\n",
      "provincia        124131 non-null object\n",
      "voto             124131 non-null object\n",
      "dtypes: int64(5), object(4)\n",
      "memory usage: 8.5+ MB\n",
      "None\n"
     ]
    }
   ],
   "source": [
    "votos = load_datasets()\n",
    "print(\"##### Votos de ejemplo:#######\")\n",
    "print(votos.head())\n",
    "print(\"\\n#######Resumen del dataset######\")\n",
    "print(votos.info())"
   ]
  },
  {
   "cell_type": "markdown",
   "metadata": {},
   "source": [
    "# Visualizacion usando Plotly"
   ]
  },
  {
   "cell_type": "markdown",
   "metadata": {},
   "source": [
    "Usando `plotly`, se pueden visualizar los votos del bloque o de un legislador:"
   ]
  },
  {
   "cell_type": "code",
   "execution_count": 104,
   "metadata": {},
   "outputs": [
    {
     "data": {
      "text/html": [
       "        <script type=\"text/javascript\">\n",
       "        window.PlotlyConfig = {MathJaxConfig: 'local'};\n",
       "        if (window.MathJax) {MathJax.Hub.Config({SVG: {font: \"STIX-Web\"}});}\n",
       "        if (typeof require !== 'undefined') {\n",
       "        require.undef(\"plotly\");\n",
       "        requirejs.config({\n",
       "            paths: {\n",
       "                'plotly': ['https://cdn.plot.ly/plotly-latest.min']\n",
       "            }\n",
       "        });\n",
       "        require(['plotly'], function(Plotly) {\n",
       "            window._Plotly = Plotly;\n",
       "        });\n",
       "        }\n",
       "        </script>\n",
       "        "
      ]
     },
     "metadata": {},
     "output_type": "display_data"
    }
   ],
   "source": [
    "# set up de plotly\n",
    "import plotly as py\n",
    "import plotly.graph_objs as go\n",
    "from plotly.offline import iplot, init_notebook_mode\n",
    "import plotly.io as pio\n",
    "init_notebook_mode(connected=True)"
   ]
  },
  {
   "cell_type": "code",
   "execution_count": 105,
   "metadata": {},
   "outputs": [],
   "source": [
    "# Creamos tmp folder\n",
    "if not os.path.exists('images'):\n",
    "    os.mkdir('images')"
   ]
  },
  {
   "cell_type": "code",
   "execution_count": 106,
   "metadata": {},
   "outputs": [],
   "source": [
    "# De todos los campos solo queremos bloque y voto\n",
    "subset = votos.filter([\"bloque\", \"voto\"])\n",
    "\n",
    "positivos = subset['voto'] == 'AFIRMATIVO'\n",
    "negativos = subset['voto'] == 'NEGATIVO'\n",
    "ausentes = subset['voto'] == 'AUSENTE'"
   ]
  },
  {
   "cell_type": "code",
   "execution_count": 107,
   "metadata": {},
   "outputs": [],
   "source": [
    "# creamos 3 datasets: afirmativo, negativo y ausente\n",
    "positivos_por_bloque = subset[positivos].groupby('bloque')\n",
    "negativos_por_bloque = subset[negativos].groupby('bloque')\n",
    "ausentes_por_bloque = subset[ausentes].groupby('bloque')"
   ]
  },
  {
   "cell_type": "code",
   "execution_count": 108,
   "metadata": {},
   "outputs": [
    {
     "data": {
      "application/vnd.plotly.v1+json": {
       "config": {
        "linkText": "Export to plot.ly",
        "plotlyServerURL": "https://plot.ly",
        "responsive": true,
        "showLink": false
       },
       "data": [
        {
         "labels": [
          "Avanzar San Luis",
          "BG Juan B. Bustos",
          "Bloque de los Trabajadores",
          "Chubut Somos Todos",
          "Coalición Cívica",
          "Coalición Cívica - ARI - UNEN",
          "Compromiso Federal",
          "Compromiso con San Juan",
          "Concertación FORJA",
          "Conservador Popular",
          "Cultura, Educación y Trabajo",
          "Córdoba Federal",
          "Córdoba Trabajo y Producción",
          "Del Bicentenario",
          "Demócrata de Mendoza",
          "Diálogo y Trabajo",
          "Elijo Catamarca",
          "Evolución Radical",
          "Fe",
          "Federal Unidos por una Nueva Argentina",
          "Frente Cívico - Córdoba",
          "Frente Cívico por Santiago",
          "Frente Norte",
          "Frente Progresista Cívico y Social",
          "Frente Renovador",
          "Frente de la Concordia Misionero",
          "Frente para la Victoria - PJ",
          "Frente por la Inclusión Social",
          "Fte. Cívico y Social de Catamarca",
          "Fte. Renov. de la Conc. Misiones - FPV-PJ",
          "Fte. de Izquierda y de los Trabajadores",
          "GEN",
          "Izquierda Socialista - Frente de Izquierda",
          "Juntos por Argentina",
          "Justicialista",
          "Justicialista por Tucumán",
          "Libertad y Democracia",
          "Libertad, Valores y Cambios",
          "Libres del Sur",
          "Movimiento Nacional Alfonsinista",
          "Movimiento Popular Fueguino",
          "Movimiento Popular Neuquino",
          "Movimiento Solidario Popular",
          "No Integra Bloque",
          "Nuevo Espacio Santafesino",
          "PRO",
          "PTS - Frente de Izquierda",
          "Partido Bloquista de San Juan",
          "Partido Demócrata Progresista",
          "Partido Intransigente de Mendoza",
          "Partido Justicialista La Pampa",
          "Partido Socialista",
          "Partido por la Justicia Social",
          "Peronismo mas al Sur",
          "Peronismo para la Victoria",
          "Primero Argentina",
          "Primero Tucumán",
          "Protectora",
          "Proyecto Sur",
          "Red por Argentina",
          "SUMA + UNEN",
          "Salta Somos Todos",
          "Social Cristiano",
          "Solidario SI",
          "Somos Mendoza",
          "Somos San Juan",
          "Todos Juntos por San Juan",
          "Trabajo y Dignidad",
          "U.De.So. Salta",
          "UNIR",
          "Unidad Justicialista",
          "Unidad Popular",
          "Unidos por una Nueva Argentina",
          "Unión Celeste y Blanco",
          "Unión Cívica Radical",
          "Unión PRO",
          "Unión por Córdoba",
          "Unión por Entre Ríos"
         ],
         "title": {
          "text": "Votos Positivos"
         },
         "type": "pie",
         "uid": "9460d746-6650-48dc-8f1a-2fa6a4331276",
         "values": [
          198,
          278,
          12,
          192,
          1432,
          73,
          588,
          196,
          151,
          27,
          189,
          294,
          41,
          363,
          23,
          195,
          175,
          211,
          11,
          6414,
          37,
          1936,
          80,
          23,
          269,
          883,
          18503,
          57,
          565,
          226,
          285,
          216,
          39,
          761,
          4655,
          177,
          2,
          241,
          629,
          47,
          28,
          633,
          150,
          4,
          52,
          3245,
          226,
          296,
          273,
          60,
          58,
          973,
          62,
          13,
          762,
          41,
          196,
          30,
          171,
          4,
          43,
          195,
          52,
          154,
          67,
          86,
          94,
          642,
          25,
          8,
          191,
          76,
          1475,
          2,
          11730,
          10248,
          40,
          284
         ]
        }
       ],
       "layout": {}
      },
      "text/html": [
       "<div>\n",
       "        \n",
       "        \n",
       "            <div id=\"1ca492e2-d6e0-4436-bdaa-8fd91e5bda7c\" class=\"plotly-graph-div\" style=\"height:525px; width:100%;\"></div>\n",
       "            <script type=\"text/javascript\">\n",
       "                require([\"plotly\"], function(Plotly) {\n",
       "                    window.PLOTLYENV=window.PLOTLYENV || {};\n",
       "                    window.PLOTLYENV.BASE_URL='https://plot.ly';\n",
       "                    \n",
       "                if (document.getElementById(\"1ca492e2-d6e0-4436-bdaa-8fd91e5bda7c\")) {\n",
       "                    Plotly.newPlot(\n",
       "                        '1ca492e2-d6e0-4436-bdaa-8fd91e5bda7c',\n",
       "                        [{\"labels\": [\"Avanzar San Luis\", \"BG Juan B. Bustos\", \"Bloque de los Trabajadores\", \"Chubut Somos Todos\", \"Coalici\\u00f3n C\\u00edvica\", \"Coalici\\u00f3n C\\u00edvica - ARI - UNEN\", \"Compromiso Federal\", \"Compromiso con San Juan\", \"Concertaci\\u00f3n FORJA\", \"Conservador Popular\", \"Cultura, Educaci\\u00f3n y Trabajo\", \"C\\u00f3rdoba Federal\", \"C\\u00f3rdoba Trabajo y Producci\\u00f3n\", \"Del Bicentenario\", \"Dem\\u00f3crata de Mendoza\", \"Di\\u00e1logo y Trabajo\", \"Elijo Catamarca\", \"Evoluci\\u00f3n Radical\", \"Fe\", \"Federal Unidos por una Nueva Argentina\", \"Frente C\\u00edvico - C\\u00f3rdoba\", \"Frente C\\u00edvico por Santiago\", \"Frente Norte\", \"Frente Progresista C\\u00edvico y Social\", \"Frente Renovador\", \"Frente de la Concordia Misionero\", \"Frente para la Victoria - PJ\", \"Frente por la Inclusi\\u00f3n Social\", \"Fte. C\\u00edvico y Social de Catamarca\", \"Fte. Renov. de la Conc. Misiones - FPV-PJ\", \"Fte. de Izquierda y de los Trabajadores\", \"GEN\", \"Izquierda Socialista - Frente de Izquierda\", \"Juntos por Argentina\", \"Justicialista\", \"Justicialista por Tucum\\u00e1n\", \"Libertad y Democracia\", \"Libertad, Valores y Cambios\", \"Libres del Sur\", \"Movimiento Nacional Alfonsinista\", \"Movimiento Popular Fueguino\", \"Movimiento Popular Neuquino\", \"Movimiento Solidario Popular\", \"No Integra Bloque\", \"Nuevo Espacio Santafesino\", \"PRO\", \"PTS - Frente de Izquierda\", \"Partido Bloquista de San Juan\", \"Partido Dem\\u00f3crata Progresista\", \"Partido Intransigente de Mendoza\", \"Partido Justicialista La Pampa\", \"Partido Socialista\", \"Partido por la Justicia Social\", \"Peronismo mas al Sur\", \"Peronismo para la Victoria\", \"Primero Argentina\", \"Primero Tucum\\u00e1n\", \"Protectora\", \"Proyecto Sur\", \"Red por Argentina\", \"SUMA + UNEN\", \"Salta Somos Todos\", \"Social Cristiano\", \"Solidario SI\", \"Somos Mendoza\", \"Somos San Juan\", \"Todos Juntos por San Juan\", \"Trabajo y Dignidad\", \"U.De.So. Salta\", \"UNIR\", \"Unidad Justicialista\", \"Unidad Popular\", \"Unidos por una Nueva Argentina\", \"Uni\\u00f3n Celeste y Blanco\", \"Uni\\u00f3n C\\u00edvica Radical\", \"Uni\\u00f3n PRO\", \"Uni\\u00f3n por C\\u00f3rdoba\", \"Uni\\u00f3n por Entre R\\u00edos\"], \"title\": {\"text\": \"Votos Positivos\"}, \"type\": \"pie\", \"uid\": \"6a813db9-819c-4c75-a9ac-2b538fbf2d72\", \"values\": [198, 278, 12, 192, 1432, 73, 588, 196, 151, 27, 189, 294, 41, 363, 23, 195, 175, 211, 11, 6414, 37, 1936, 80, 23, 269, 883, 18503, 57, 565, 226, 285, 216, 39, 761, 4655, 177, 2, 241, 629, 47, 28, 633, 150, 4, 52, 3245, 226, 296, 273, 60, 58, 973, 62, 13, 762, 41, 196, 30, 171, 4, 43, 195, 52, 154, 67, 86, 94, 642, 25, 8, 191, 76, 1475, 2, 11730, 10248, 40, 284]}],\n",
       "                        {},\n",
       "                        {\"showLink\": false, \"linkText\": \"Export to plot.ly\", \"plotlyServerURL\": \"https://plot.ly\", \"responsive\": true}\n",
       "                    ).then(function(){\n",
       "                            \n",
       "var gd = document.getElementById('1ca492e2-d6e0-4436-bdaa-8fd91e5bda7c');\n",
       "var x = new MutationObserver(function (mutations, observer) {{\n",
       "        var display = window.getComputedStyle(gd).display;\n",
       "        if (!display || display === 'none') {{\n",
       "            console.log([gd, 'removed!']);\n",
       "            Plotly.purge(gd);\n",
       "            observer.disconnect();\n",
       "        }}\n",
       "}});\n",
       "\n",
       "// Listen for the removal of the full notebook cells\n",
       "var notebookContainer = gd.closest('#notebook-container');\n",
       "if (notebookContainer) {{\n",
       "    x.observe(notebookContainer, {childList: true});\n",
       "}}\n",
       "\n",
       "// Listen for the clearing of the current output cell\n",
       "var outputEl = gd.closest('.output');\n",
       "if (outputEl) {{\n",
       "    x.observe(outputEl, {childList: true});\n",
       "}}\n",
       "\n",
       "                        })\n",
       "                };\n",
       "                });\n",
       "            </script>\n",
       "        </div>"
      ]
     },
     "metadata": {},
     "output_type": "display_data"
    }
   ],
   "source": [
    "# Realizamos el cuento de votos por bloque y graficamos\n",
    "positivos_count = positivos_por_bloque.agg('count')\n",
    "\n",
    "labels = positivos_count.index.values\n",
    "values = positivos_count.values.flatten()\n",
    "\n",
    "trace = go.Pie(labels=labels, values=values, title='Votos Positivos')\n",
    "\n",
    "py.offline.iplot([trace], filename='positivos')"
   ]
  },
  {
   "cell_type": "code",
   "execution_count": 109,
   "metadata": {},
   "outputs": [
    {
     "data": {
      "application/vnd.plotly.v1+json": {
       "config": {
        "linkText": "Export to plot.ly",
        "plotlyServerURL": "https://plot.ly",
        "responsive": true,
        "showLink": false
       },
       "data": [
        {
         "labels": [
          "Avanzar San Luis",
          "BG Juan B. Bustos",
          "Bloque de los Trabajadores",
          "Chubut Somos Todos",
          "Coalición Cívica",
          "Coalición Cívica - ARI - UNEN",
          "Compromiso Federal",
          "Compromiso con San Juan",
          "Concertación FORJA",
          "Conservador Popular",
          "Cultura, Educación y Trabajo",
          "Córdoba Federal",
          "Córdoba Trabajo y Producción",
          "Del Bicentenario",
          "Demócrata de Mendoza",
          "Diálogo y Trabajo",
          "Elijo Catamarca",
          "Evolución Radical",
          "Fe",
          "Federal Unidos por una Nueva Argentina",
          "Frente Cívico - Córdoba",
          "Frente Cívico por Santiago",
          "Frente Norte",
          "Frente Progresista Cívico y Social",
          "Frente Renovador",
          "Frente de la Concordia Misionero",
          "Frente para la Victoria - PJ",
          "Frente por la Inclusión Social",
          "Fte. Cívico y Social de Catamarca",
          "Fte. Renov. de la Conc. Misiones - FPV-PJ",
          "Fte. de Izquierda y de los Trabajadores",
          "GEN",
          "Izquierda Socialista - Frente de Izquierda",
          "Juntos por Argentina",
          "Justicialista",
          "Justicialista por Tucumán",
          "Libertad y Democracia",
          "Libertad, Valores y Cambios",
          "Libres del Sur",
          "Movimiento Nacional Alfonsinista",
          "Movimiento Popular Fueguino",
          "Movimiento Popular Neuquino",
          "Movimiento Solidario Popular",
          "No Integra Bloque",
          "Nuevo Espacio Santafesino",
          "PRO",
          "PTS - Frente de Izquierda",
          "Partido Bloquista de San Juan",
          "Partido Demócrata Progresista",
          "Partido Intransigente de Mendoza",
          "Partido Justicialista La Pampa",
          "Partido Socialista",
          "Partido por la Justicia Social",
          "Peronismo mas al Sur",
          "Peronismo para la Victoria",
          "Primero Argentina",
          "Primero Tucumán",
          "Protectora",
          "Proyecto Sur",
          "Red por Argentina",
          "SUMA + UNEN",
          "Salta Somos Todos",
          "Social Cristiano",
          "Solidario SI",
          "Somos Mendoza",
          "Somos San Juan",
          "Todos Juntos por San Juan",
          "Trabajo y Dignidad",
          "U.De.So. Salta",
          "UNIR",
          "Unidad Justicialista",
          "Unidad Popular",
          "Unidos por una Nueva Argentina",
          "Unión Celeste y Blanco",
          "Unión Cívica Radical",
          "Unión PRO",
          "Unión por Córdoba",
          "Unión por Entre Ríos"
         ],
         "title": {
          "text": "Votos Negativos"
         },
         "type": "pie",
         "uid": "043fa733-7f9c-4ce6-9889-f8350d3d2a93",
         "values": [
          15,
          50,
          3,
          15,
          622,
          65,
          164,
          9,
          88,
          22,
          72,
          51,
          16,
          50,
          21,
          12,
          32,
          70,
          12,
          619,
          35,
          189,
          4,
          9,
          126,
          115,
          9276,
          1,
          151,
          4,
          533,
          124,
          61,
          64,
          534,
          25,
          1,
          33,
          213,
          2,
          4,
          70,
          94,
          2,
          33,
          2738,
          269,
          39,
          40,
          21,
          1,
          373,
          52,
          9,
          421,
          14,
          14,
          1,
          134,
          16,
          34,
          40,
          4,
          75,
          18,
          16,
          11,
          55,
          20,
          5,
          42,
          25,
          65,
          9,
          3734,
          1793,
          33,
          23
         ]
        }
       ],
       "layout": {}
      },
      "text/html": [
       "<div>\n",
       "        \n",
       "        \n",
       "            <div id=\"372b07f7-e387-4dd7-ab96-095c44856a17\" class=\"plotly-graph-div\" style=\"height:525px; width:100%;\"></div>\n",
       "            <script type=\"text/javascript\">\n",
       "                require([\"plotly\"], function(Plotly) {\n",
       "                    window.PLOTLYENV=window.PLOTLYENV || {};\n",
       "                    window.PLOTLYENV.BASE_URL='https://plot.ly';\n",
       "                    \n",
       "                if (document.getElementById(\"372b07f7-e387-4dd7-ab96-095c44856a17\")) {\n",
       "                    Plotly.newPlot(\n",
       "                        '372b07f7-e387-4dd7-ab96-095c44856a17',\n",
       "                        [{\"labels\": [\"Avanzar San Luis\", \"BG Juan B. Bustos\", \"Bloque de los Trabajadores\", \"Chubut Somos Todos\", \"Coalici\\u00f3n C\\u00edvica\", \"Coalici\\u00f3n C\\u00edvica - ARI - UNEN\", \"Compromiso Federal\", \"Compromiso con San Juan\", \"Concertaci\\u00f3n FORJA\", \"Conservador Popular\", \"Cultura, Educaci\\u00f3n y Trabajo\", \"C\\u00f3rdoba Federal\", \"C\\u00f3rdoba Trabajo y Producci\\u00f3n\", \"Del Bicentenario\", \"Dem\\u00f3crata de Mendoza\", \"Di\\u00e1logo y Trabajo\", \"Elijo Catamarca\", \"Evoluci\\u00f3n Radical\", \"Fe\", \"Federal Unidos por una Nueva Argentina\", \"Frente C\\u00edvico - C\\u00f3rdoba\", \"Frente C\\u00edvico por Santiago\", \"Frente Norte\", \"Frente Progresista C\\u00edvico y Social\", \"Frente Renovador\", \"Frente de la Concordia Misionero\", \"Frente para la Victoria - PJ\", \"Frente por la Inclusi\\u00f3n Social\", \"Fte. C\\u00edvico y Social de Catamarca\", \"Fte. Renov. de la Conc. Misiones - FPV-PJ\", \"Fte. de Izquierda y de los Trabajadores\", \"GEN\", \"Izquierda Socialista - Frente de Izquierda\", \"Juntos por Argentina\", \"Justicialista\", \"Justicialista por Tucum\\u00e1n\", \"Libertad y Democracia\", \"Libertad, Valores y Cambios\", \"Libres del Sur\", \"Movimiento Nacional Alfonsinista\", \"Movimiento Popular Fueguino\", \"Movimiento Popular Neuquino\", \"Movimiento Solidario Popular\", \"No Integra Bloque\", \"Nuevo Espacio Santafesino\", \"PRO\", \"PTS - Frente de Izquierda\", \"Partido Bloquista de San Juan\", \"Partido Dem\\u00f3crata Progresista\", \"Partido Intransigente de Mendoza\", \"Partido Justicialista La Pampa\", \"Partido Socialista\", \"Partido por la Justicia Social\", \"Peronismo mas al Sur\", \"Peronismo para la Victoria\", \"Primero Argentina\", \"Primero Tucum\\u00e1n\", \"Protectora\", \"Proyecto Sur\", \"Red por Argentina\", \"SUMA + UNEN\", \"Salta Somos Todos\", \"Social Cristiano\", \"Solidario SI\", \"Somos Mendoza\", \"Somos San Juan\", \"Todos Juntos por San Juan\", \"Trabajo y Dignidad\", \"U.De.So. Salta\", \"UNIR\", \"Unidad Justicialista\", \"Unidad Popular\", \"Unidos por una Nueva Argentina\", \"Uni\\u00f3n Celeste y Blanco\", \"Uni\\u00f3n C\\u00edvica Radical\", \"Uni\\u00f3n PRO\", \"Uni\\u00f3n por C\\u00f3rdoba\", \"Uni\\u00f3n por Entre R\\u00edos\"], \"title\": {\"text\": \"Votos Negativos\"}, \"type\": \"pie\", \"uid\": \"84d0b664-3061-4f38-bccf-78f285629076\", \"values\": [15, 50, 3, 15, 622, 65, 164, 9, 88, 22, 72, 51, 16, 50, 21, 12, 32, 70, 12, 619, 35, 189, 4, 9, 126, 115, 9276, 1, 151, 4, 533, 124, 61, 64, 534, 25, 1, 33, 213, 2, 4, 70, 94, 2, 33, 2738, 269, 39, 40, 21, 1, 373, 52, 9, 421, 14, 14, 1, 134, 16, 34, 40, 4, 75, 18, 16, 11, 55, 20, 5, 42, 25, 65, 9, 3734, 1793, 33, 23]}],\n",
       "                        {},\n",
       "                        {\"showLink\": false, \"linkText\": \"Export to plot.ly\", \"plotlyServerURL\": \"https://plot.ly\", \"responsive\": true}\n",
       "                    ).then(function(){\n",
       "                            \n",
       "var gd = document.getElementById('372b07f7-e387-4dd7-ab96-095c44856a17');\n",
       "var x = new MutationObserver(function (mutations, observer) {{\n",
       "        var display = window.getComputedStyle(gd).display;\n",
       "        if (!display || display === 'none') {{\n",
       "            console.log([gd, 'removed!']);\n",
       "            Plotly.purge(gd);\n",
       "            observer.disconnect();\n",
       "        }}\n",
       "}});\n",
       "\n",
       "// Listen for the removal of the full notebook cells\n",
       "var notebookContainer = gd.closest('#notebook-container');\n",
       "if (notebookContainer) {{\n",
       "    x.observe(notebookContainer, {childList: true});\n",
       "}}\n",
       "\n",
       "// Listen for the clearing of the current output cell\n",
       "var outputEl = gd.closest('.output');\n",
       "if (outputEl) {{\n",
       "    x.observe(outputEl, {childList: true});\n",
       "}}\n",
       "\n",
       "                        })\n",
       "                };\n",
       "                });\n",
       "            </script>\n",
       "        </div>"
      ]
     },
     "metadata": {},
     "output_type": "display_data"
    }
   ],
   "source": [
    "negativos_count = negativos_por_bloque.agg('count')\n",
    "\n",
    "labels = negativos_count.index.values\n",
    "values = negativos_count.values.flatten()\n",
    "\n",
    "trace = go.Pie(labels=labels, values=values, title='Votos Negativos')\n",
    "\n",
    "py.offline.iplot([trace], filename='negativos')"
   ]
  },
  {
   "cell_type": "code",
   "execution_count": 110,
   "metadata": {},
   "outputs": [
    {
     "data": {
      "application/vnd.plotly.v1+json": {
       "config": {
        "linkText": "Export to plot.ly",
        "plotlyServerURL": "https://plot.ly",
        "responsive": true,
        "showLink": false
       },
       "data": [
        {
         "labels": [
          "Avanzar San Luis",
          "BG Juan B. Bustos",
          "Bloque de los Trabajadores",
          "Chubut Somos Todos",
          "Coalición Cívica",
          "Coalición Cívica - ARI - UNEN",
          "Compromiso Federal",
          "Compromiso con San Juan",
          "Concertación FORJA",
          "Conservador Popular",
          "Cultura, Educación y Trabajo",
          "Córdoba Federal",
          "Córdoba Trabajo y Producción",
          "Del Bicentenario",
          "Demócrata de Mendoza",
          "Diálogo y Trabajo",
          "Elijo Catamarca",
          "Evolución Radical",
          "Fe",
          "Federal Unidos por una Nueva Argentina",
          "Frente Cívico - Córdoba",
          "Frente Cívico por Santiago",
          "Frente Norte",
          "Frente Renovador",
          "Frente de la Concordia Misionero",
          "Frente para la Victoria - PJ",
          "Frente por la Inclusión Social",
          "Fte. Cívico y Social de Catamarca",
          "Fte. Renov. de la Conc. Misiones - FPV-PJ",
          "Fte. de Izquierda y de los Trabajadores",
          "GEN",
          "Izquierda Socialista - Frente de Izquierda",
          "Juntos por Argentina",
          "Justicialista",
          "Justicialista por Tucumán",
          "Libertad y Democracia",
          "Libertad, Valores y Cambios",
          "Libres del Sur",
          "Movimiento Nacional Alfonsinista",
          "Movimiento Popular Fueguino",
          "Movimiento Popular Neuquino",
          "Movimiento Solidario Popular",
          "No Integra Bloque",
          "Nuevo Espacio Santafesino",
          "PRO",
          "PTS - Frente de Izquierda",
          "Partido Bloquista de San Juan",
          "Partido Demócrata Progresista",
          "Partido Socialista",
          "Partido por la Justicia Social",
          "Peronismo mas al Sur",
          "Peronismo para la Victoria",
          "Primero Argentina",
          "Primero Tucumán",
          "Proyecto Sur",
          "SUMA + UNEN",
          "Salta Somos Todos",
          "Social Cristiano",
          "Solidario SI",
          "Somos Mendoza",
          "Somos San Juan",
          "Todos Juntos por San Juan",
          "Trabajo y Dignidad",
          "U.De.So. Salta",
          "UNIR",
          "Unidad Justicialista",
          "Unidad Popular",
          "Unidos por una Nueva Argentina",
          "Unión Celeste y Blanco",
          "Unión Cívica Radical",
          "Unión PRO",
          "Unión por Córdoba",
          "Unión por Entre Ríos"
         ],
         "title": {
          "text": "Votos Ausentes"
         },
         "type": "pie",
         "uid": "8103351a-efdf-45ed-b9cc-07182723587a",
         "values": [
          93,
          68,
          83,
          132,
          444,
          96,
          565,
          102,
          181,
          9,
          204,
          111,
          54,
          191,
          10,
          96,
          25,
          50,
          35,
          1818,
          46,
          816,
          39,
          490,
          327,
          8053,
          1,
          316,
          34,
          55,
          191,
          7,
          322,
          2050,
          118,
          31,
          25,
          226,
          10,
          27,
          202,
          117,
          49,
          28,
          438,
          67,
          80,
          12,
          385,
          3,
          36,
          655,
          61,
          106,
          49,
          40,
          179,
          21,
          177,
          29,
          13,
          9,
          132,
          11,
          45,
          66,
          68,
          267,
          48,
          2216,
          1654,
          102,
          54
         ]
        }
       ],
       "layout": {}
      },
      "text/html": [
       "<div>\n",
       "        \n",
       "        \n",
       "            <div id=\"773a5944-323f-4626-9017-2e08814f4877\" class=\"plotly-graph-div\" style=\"height:525px; width:100%;\"></div>\n",
       "            <script type=\"text/javascript\">\n",
       "                require([\"plotly\"], function(Plotly) {\n",
       "                    window.PLOTLYENV=window.PLOTLYENV || {};\n",
       "                    window.PLOTLYENV.BASE_URL='https://plot.ly';\n",
       "                    \n",
       "                if (document.getElementById(\"773a5944-323f-4626-9017-2e08814f4877\")) {\n",
       "                    Plotly.newPlot(\n",
       "                        '773a5944-323f-4626-9017-2e08814f4877',\n",
       "                        [{\"labels\": [\"Avanzar San Luis\", \"BG Juan B. Bustos\", \"Bloque de los Trabajadores\", \"Chubut Somos Todos\", \"Coalici\\u00f3n C\\u00edvica\", \"Coalici\\u00f3n C\\u00edvica - ARI - UNEN\", \"Compromiso Federal\", \"Compromiso con San Juan\", \"Concertaci\\u00f3n FORJA\", \"Conservador Popular\", \"Cultura, Educaci\\u00f3n y Trabajo\", \"C\\u00f3rdoba Federal\", \"C\\u00f3rdoba Trabajo y Producci\\u00f3n\", \"Del Bicentenario\", \"Dem\\u00f3crata de Mendoza\", \"Di\\u00e1logo y Trabajo\", \"Elijo Catamarca\", \"Evoluci\\u00f3n Radical\", \"Fe\", \"Federal Unidos por una Nueva Argentina\", \"Frente C\\u00edvico - C\\u00f3rdoba\", \"Frente C\\u00edvico por Santiago\", \"Frente Norte\", \"Frente Renovador\", \"Frente de la Concordia Misionero\", \"Frente para la Victoria - PJ\", \"Frente por la Inclusi\\u00f3n Social\", \"Fte. C\\u00edvico y Social de Catamarca\", \"Fte. Renov. de la Conc. Misiones - FPV-PJ\", \"Fte. de Izquierda y de los Trabajadores\", \"GEN\", \"Izquierda Socialista - Frente de Izquierda\", \"Juntos por Argentina\", \"Justicialista\", \"Justicialista por Tucum\\u00e1n\", \"Libertad y Democracia\", \"Libertad, Valores y Cambios\", \"Libres del Sur\", \"Movimiento Nacional Alfonsinista\", \"Movimiento Popular Fueguino\", \"Movimiento Popular Neuquino\", \"Movimiento Solidario Popular\", \"No Integra Bloque\", \"Nuevo Espacio Santafesino\", \"PRO\", \"PTS - Frente de Izquierda\", \"Partido Bloquista de San Juan\", \"Partido Dem\\u00f3crata Progresista\", \"Partido Socialista\", \"Partido por la Justicia Social\", \"Peronismo mas al Sur\", \"Peronismo para la Victoria\", \"Primero Argentina\", \"Primero Tucum\\u00e1n\", \"Proyecto Sur\", \"SUMA + UNEN\", \"Salta Somos Todos\", \"Social Cristiano\", \"Solidario SI\", \"Somos Mendoza\", \"Somos San Juan\", \"Todos Juntos por San Juan\", \"Trabajo y Dignidad\", \"U.De.So. Salta\", \"UNIR\", \"Unidad Justicialista\", \"Unidad Popular\", \"Unidos por una Nueva Argentina\", \"Uni\\u00f3n Celeste y Blanco\", \"Uni\\u00f3n C\\u00edvica Radical\", \"Uni\\u00f3n PRO\", \"Uni\\u00f3n por C\\u00f3rdoba\", \"Uni\\u00f3n por Entre R\\u00edos\"], \"title\": {\"text\": \"Votos Ausentes\"}, \"type\": \"pie\", \"uid\": \"c8d41928-dcff-496b-8a7d-f005232cb5c1\", \"values\": [93, 68, 83, 132, 444, 96, 565, 102, 181, 9, 204, 111, 54, 191, 10, 96, 25, 50, 35, 1818, 46, 816, 39, 490, 327, 8053, 1, 316, 34, 55, 191, 7, 322, 2050, 118, 31, 25, 226, 10, 27, 202, 117, 49, 28, 438, 67, 80, 12, 385, 3, 36, 655, 61, 106, 49, 40, 179, 21, 177, 29, 13, 9, 132, 11, 45, 66, 68, 267, 48, 2216, 1654, 102, 54]}],\n",
       "                        {},\n",
       "                        {\"showLink\": false, \"linkText\": \"Export to plot.ly\", \"plotlyServerURL\": \"https://plot.ly\", \"responsive\": true}\n",
       "                    ).then(function(){\n",
       "                            \n",
       "var gd = document.getElementById('773a5944-323f-4626-9017-2e08814f4877');\n",
       "var x = new MutationObserver(function (mutations, observer) {{\n",
       "        var display = window.getComputedStyle(gd).display;\n",
       "        if (!display || display === 'none') {{\n",
       "            console.log([gd, 'removed!']);\n",
       "            Plotly.purge(gd);\n",
       "            observer.disconnect();\n",
       "        }}\n",
       "}});\n",
       "\n",
       "// Listen for the removal of the full notebook cells\n",
       "var notebookContainer = gd.closest('#notebook-container');\n",
       "if (notebookContainer) {{\n",
       "    x.observe(notebookContainer, {childList: true});\n",
       "}}\n",
       "\n",
       "// Listen for the clearing of the current output cell\n",
       "var outputEl = gd.closest('.output');\n",
       "if (outputEl) {{\n",
       "    x.observe(outputEl, {childList: true});\n",
       "}}\n",
       "\n",
       "                        })\n",
       "                };\n",
       "                });\n",
       "            </script>\n",
       "        </div>"
      ]
     },
     "metadata": {},
     "output_type": "display_data"
    }
   ],
   "source": [
    "ausentes_count = ausentes_por_bloque.agg('count')\n",
    "\n",
    "labels = ausentes_count.index.values\n",
    "values = ausentes_count.values.flatten()\n",
    "\n",
    "trace = go.Pie(labels=labels, values=values, title='Votos Ausentes')\n",
    "\n",
    "py.offline.iplot([trace], filename='ausentes')"
   ]
  },
  {
   "cell_type": "markdown",
   "metadata": {},
   "source": [
    "# Text Mining\n",
    "El objetivo es tokenizar nombre de los partidos politicos y extraer semántica."
   ]
  },
  {
   "cell_type": "code",
   "execution_count": 204,
   "metadata": {},
   "outputs": [],
   "source": [
    "bloques = votos['bloque'].drop_duplicates()"
   ]
  },
  {
   "cell_type": "code",
   "execution_count": 206,
   "metadata": {},
   "outputs": [],
   "source": [
    "#print(bloques)"
   ]
  },
  {
   "cell_type": "code",
   "execution_count": 207,
   "metadata": {},
   "outputs": [
    {
     "name": "stdout",
     "output_type": "stream",
     "text": [
      "0      Frente Cívico por Santiago\n",
      "1    Frente para la Victoria - PJ\n",
      "2            Unión Cívica Radical\n",
      "3              Compromiso Federal\n",
      "4                Frente Renovador\n",
      "Name: bloque, dtype: object\n"
     ]
    }
   ],
   "source": [
    "print(bloques.head())"
   ]
  },
  {
   "cell_type": "markdown",
   "metadata": {},
   "source": [
    "# TextBlob\n",
    "Text Blob es una librería "
   ]
  },
  {
   "cell_type": "markdown",
   "metadata": {},
   "source": [
    "# Install TextBlob in Anaconda\n",
    "Puede que sea necesario instalar manualmente TextBlob: https://anaconda.org/conda-forge/textblob"
   ]
  },
  {
   "cell_type": "code",
   "execution_count": 208,
   "metadata": {},
   "outputs": [],
   "source": [
    "from textblob import TextBlob"
   ]
  },
  {
   "cell_type": "code",
   "execution_count": 209,
   "metadata": {},
   "outputs": [],
   "source": [
    "bloque = bloques.iloc[0]"
   ]
  },
  {
   "cell_type": "code",
   "execution_count": 210,
   "metadata": {},
   "outputs": [
    {
     "name": "stdout",
     "output_type": "stream",
     "text": [
      "Frente Cívico por Santiago\n"
     ]
    }
   ],
   "source": [
    "print(bloque)"
   ]
  },
  {
   "cell_type": "code",
   "execution_count": 163,
   "metadata": {},
   "outputs": [
    {
     "name": "stdout",
     "output_type": "stream",
     "text": [
      "showing info https://raw.githubusercontent.com/nltk/nltk_data/gh-pages/index.xml\n"
     ]
    },
    {
     "data": {
      "text/plain": [
       "True"
      ]
     },
     "execution_count": 163,
     "metadata": {},
     "output_type": "execute_result"
    }
   ],
   "source": [
    "import nltk\n",
    "nltk.download('punkt')"
   ]
  },
  {
   "cell_type": "code",
   "execution_count": 154,
   "metadata": {},
   "outputs": [
    {
     "name": "stdout",
     "output_type": "stream",
     "text": [
      "[nltk_data] Downloading package averaged_perceptron_tagger to\n",
      "[nltk_data]     /Users/arielsegura/nltk_data...\n",
      "[nltk_data]   Unzipping taggers/averaged_perceptron_tagger.zip.\n"
     ]
    },
    {
     "data": {
      "text/plain": [
       "True"
      ]
     },
     "execution_count": 154,
     "metadata": {},
     "output_type": "execute_result"
    }
   ],
   "source": [
    "nltk.download('averaged_perceptron_tagger')"
   ]
  },
  {
   "cell_type": "code",
   "execution_count": 157,
   "metadata": {},
   "outputs": [
    {
     "name": "stdout",
     "output_type": "stream",
     "text": [
      "[nltk_data] Downloading package brown to\n",
      "[nltk_data]     /Users/arielsegura/nltk_data...\n",
      "[nltk_data]   Unzipping corpora/brown.zip.\n"
     ]
    },
    {
     "data": {
      "text/plain": [
       "True"
      ]
     },
     "execution_count": 157,
     "metadata": {},
     "output_type": "execute_result"
    }
   ],
   "source": [
    "nltk.download('brown')"
   ]
  },
  {
   "cell_type": "markdown",
   "metadata": {},
   "source": [
    "# Stopwords\n",
    "Eliminamos stopwords de los bloques"
   ]
  },
  {
   "cell_type": "code",
   "execution_count": 165,
   "metadata": {},
   "outputs": [],
   "source": [
    "from nltk.corpus import stopwords "
   ]
  },
  {
   "cell_type": "code",
   "execution_count": 168,
   "metadata": {},
   "outputs": [],
   "source": [
    "stop_words = set(stopwords.words('spanish'))"
   ]
  },
  {
   "cell_type": "code",
   "execution_count": 172,
   "metadata": {},
   "outputs": [],
   "source": [
    "#print(stop_words)"
   ]
  },
  {
   "cell_type": "code",
   "execution_count": 147,
   "metadata": {},
   "outputs": [],
   "source": [
    "blob = TextBlob(bloque)"
   ]
  },
  {
   "cell_type": "code",
   "execution_count": 148,
   "metadata": {},
   "outputs": [
    {
     "name": "stdout",
     "output_type": "stream",
     "text": [
      "Frente Cívico por Santiago\n"
     ]
    }
   ],
   "source": [
    "print(blob)"
   ]
  },
  {
   "cell_type": "code",
   "execution_count": 211,
   "metadata": {},
   "outputs": [
    {
     "name": "stdout",
     "output_type": "stream",
     "text": [
      "0      Frente Cívico por Santiago\n",
      "1    Frente para la Victoria - PJ\n",
      "2            Unión Cívica Radical\n",
      "3              Compromiso Federal\n",
      "4                Frente Renovador\n",
      "Name: bloque, dtype: object\n"
     ]
    }
   ],
   "source": [
    "print(bloques.head())"
   ]
  },
  {
   "cell_type": "code",
   "execution_count": 245,
   "metadata": {},
   "outputs": [],
   "source": [
    "bloques_text_blob = bloques.map(lambda x: TextBlob(str(x)))\n"
   ]
  },
  {
   "cell_type": "code",
   "execution_count": 259,
   "metadata": {},
   "outputs": [
    {
     "name": "stdout",
     "output_type": "stream",
     "text": [
      "0                {'Frente Cívico por Santiago': (0.0, 0.0)}\n",
      "1              {'Frente para la Victoria - PJ': (0.0, 0.0)}\n",
      "2                      {'Unión Cívica Radical': (0.0, 0.0)}\n",
      "3                        {'Compromiso Federal': (0.0, 0.0)}\n",
      "4                          {'Frente Renovador': (0.0, 0.0)}\n",
      "6                                 {'Unión PRO': (0.0, 0.0)}\n",
      "9                              {'Proyecto Sur': (0.0, 0.0)}\n",
      "11                                     {'UNIR': (0.0, 0.0)}\n",
      "15                       {'Partido Socialista': (0.0, 0.0)}\n",
      "27                           {'U.De.So. Salta': (0.0, 0.0)}\n",
      "29              {'Movimiento Popular Fueguino': (0.6, 0.9)}\n",
      "31                {'PTS - Frente de Izquierda': (0.0, 0.0)}\n",
      "32        {'Fte. Cívico y Social de Catamarca': (0.03333...\n",
      "34                                       {'Fe': (0.0, 0.0)}\n",
      "47            {'Coalición Cívica - ARI - UNEN': (0.0, 0.0)}\n",
      "48                              {'SUMA + UNEN': (0.0, 0.0)}\n",
      "53                        {'Unión por Córdoba': (0.0, 0.0)}\n",
      "61              {'Movimiento Popular Neuquino': (0.6, 0.9)}\n",
      "66                     {'Unión por Entre Ríos': (0.0, 0.0)}\n",
      "71                       {'Trabajo y Dignidad': (0.0, 0.0)}\n",
      "74                           {'Unidad Popular': (0.6, 0.9)}\n",
      "76                   {'Unión Celeste y Blanco': (0.0, 0.0)}\n",
      "83                           {'Libres del Sur': (0.0, 0.0)}\n",
      "85                                      {'GEN': (0.0, 0.0)}\n",
      "86                      {'Conservador Popular': (0.6, 0.9)}\n",
      "90        {'Social Cristiano': (0.03333333333333333, 0.0...\n",
      "93           {'Partido Justicialista La Pampa': (0.0, 0.0)}\n",
      "120       {'Fte. Renov. de la Conc. Misiones - FPV-PJ': ...\n",
      "123                       {'No Integra Bloque': (0.0, 0.0)}\n",
      "125                            {'Solidario SI': (0.0, 0.0)}\n",
      "                                ...                        \n",
      "15218      {'Frente de la Concordia Misionero': (0.0, 0.0)}\n",
      "15259     {'Izquierda Socialista - Frente de Izquierda':...\n",
      "15273                          {'Frente Norte': (0.0, 0.0)}\n",
      "15341                     {'Salta Somos Todos': (0.0, 0.0)}\n",
      "15342                       {'Primero Tucumán': (0.0, 0.0)}\n",
      "15348               {'Compromiso con San Juan': (0.0, 0.0)}\n",
      "15349                    {'Concertación FORJA': (0.0, 0.0)}\n",
      "15356                      {'Avanzar San Luis': (0.0, 0.0)}\n",
      "15359                     {'Diálogo y Trabajo': (0.0, 0.0)}\n",
      "15395                    {'Chubut Somos Todos': (0.0, 0.0)}\n",
      "15418           {'Libertad, Valores y Cambios': (0.0, 0.0)}\n",
      "17609                                   {'nan': (0.0, 0.0)}\n",
      "63994                                   {'PRO': (0.0, 0.0)}\n",
      "63996             {'Todos Juntos por San Juan': (0.0, 0.0)}\n",
      "64005     {'Partido por la Justicia Social': (0.03333333...\n",
      "64022                       {'Córdoba Federal': (0.0, 0.0)}\n",
      "64037                     {'Evolución Radical': (0.0, 0.0)}\n",
      "64068                         {'Somos Mendoza': (0.0, 0.0)}\n",
      "64085                       {'Elijo Catamarca': (0.0, 0.0)}\n",
      "64137             {'Justicialista por Tucumán': (0.0, 0.0)}\n",
      "64161          {'Córdoba Trabajo y Producción': (0.0, 0.0)}\n",
      "64173                        {'Somos San Juan': (0.0, 0.0)}\n",
      "64186      {'Partido Intransigente de Mendoza': (0.0, 0.0)}\n",
      "64187                     {'Primero Argentina': (0.0, 0.0)}\n",
      "64195             {'Nuevo Espacio Santafesino': (0.0, 0.0)}\n",
      "74080            {'Bloque de los Trabajadores': (0.0, 0.0)}\n",
      "104090                 {'Unidad Justicialista': (0.0, 0.0)}\n",
      "104095                    {'Red por Argentina': (0.0, 0.0)}\n",
      "104140    {'Frente Progresista Cívico y Social': (0.0333...\n",
      "104279                           {'Protectora': (0.0, 0.0)}\n",
      "Name: bloque, Length: 79, dtype: object\n"
     ]
    }
   ],
   "source": [
    "print(bloques_text_blob.map(lambda x: {str(x): x.sentiment}))"
   ]
  },
  {
   "cell_type": "code",
   "execution_count": 261,
   "metadata": {},
   "outputs": [
    {
     "name": "stdout",
     "output_type": "stream",
     "text": [
      "0                        [Frente, Cívico, por, Santiago]\n",
      "1                       [Frente, para, la, Victoria, PJ]\n",
      "2                               [Unión, Cívica, Radical]\n",
      "3                                  [Compromiso, Federal]\n",
      "4                                    [Frente, Renovador]\n",
      "6                                           [Unión, PRO]\n",
      "9                                        [Proyecto, Sur]\n",
      "11                                                [UNIR]\n",
      "15                                 [Partido, Socialista]\n",
      "27                                      [U.De.So, Salta]\n",
      "29                       [Movimiento, Popular, Fueguino]\n",
      "31                          [PTS, Frente, de, Izquierda]\n",
      "32               [Fte, Cívico, y, Social, de, Catamarca]\n",
      "34                                                  [Fe]\n",
      "47                        [Coalición, Cívica, ARI, UNEN]\n",
      "48                                          [SUMA, UNEN]\n",
      "53                                 [Unión, por, Córdoba]\n",
      "61                       [Movimiento, Popular, Neuquino]\n",
      "66                             [Unión, por, Entre, Ríos]\n",
      "71                                [Trabajo, y, Dignidad]\n",
      "74                                     [Unidad, Popular]\n",
      "76                           [Unión, Celeste, y, Blanco]\n",
      "83                                    [Libres, del, Sur]\n",
      "85                                                 [GEN]\n",
      "86                                [Conservador, Popular]\n",
      "90                                   [Social, Cristiano]\n",
      "93                   [Partido, Justicialista, La, Pampa]\n",
      "120         [Fte, Renov, de, la, Conc, Misiones, FPV-PJ]\n",
      "123                                [No, Integra, Bloque]\n",
      "125                                      [Solidario, SI]\n",
      "                               ...                      \n",
      "15218             [Frente, de, la, Concordia, Misionero]\n",
      "15259     [Izquierda, Socialista, Frente, de, Izquierda]\n",
      "15273                                    [Frente, Norte]\n",
      "15341                              [Salta, Somos, Todos]\n",
      "15342                                 [Primero, Tucumán]\n",
      "15348                       [Compromiso, con, San, Juan]\n",
      "15349                              [Concertación, FORJA]\n",
      "15356                               [Avanzar, San, Luis]\n",
      "15359                              [Diálogo, y, Trabajo]\n",
      "15395                             [Chubut, Somos, Todos]\n",
      "15418                    [Libertad, Valores, y, Cambios]\n",
      "17609                                              [nan]\n",
      "63994                                              [PRO]\n",
      "63996                    [Todos, Juntos, por, San, Juan]\n",
      "64005               [Partido, por, la, Justicia, Social]\n",
      "64022                                 [Córdoba, Federal]\n",
      "64037                               [Evolución, Radical]\n",
      "64068                                   [Somos, Mendoza]\n",
      "64085                                 [Elijo, Catamarca]\n",
      "64137                      [Justicialista, por, Tucumán]\n",
      "64161                  [Córdoba, Trabajo, y, Producción]\n",
      "64173                                 [Somos, San, Juan]\n",
      "64186              [Partido, Intransigente, de, Mendoza]\n",
      "64187                               [Primero, Argentina]\n",
      "64195                      [Nuevo, Espacio, Santafesino]\n",
      "74080                    [Bloque, de, los, Trabajadores]\n",
      "104090                           [Unidad, Justicialista]\n",
      "104095                             [Red, por, Argentina]\n",
      "104140          [Frente, Progresista, Cívico, y, Social]\n",
      "104279                                      [Protectora]\n",
      "Name: bloque, Length: 79, dtype: object\n"
     ]
    }
   ],
   "source": [
    "print(bloques_text_blob.map(lambda x: x.words))"
   ]
  },
  {
   "cell_type": "code",
   "execution_count": 262,
   "metadata": {},
   "outputs": [],
   "source": [
    "bloques_sin_stop_words = bloques_text_blob.map(lambda blob: \n",
    "                                                    [word for word in blob.words if word not in stop_words])\n"
   ]
  },
  {
   "cell_type": "code",
   "execution_count": 263,
   "metadata": {},
   "outputs": [
    {
     "name": "stdout",
     "output_type": "stream",
     "text": [
      "0                         [Frente, Cívico, Santiago]\n",
      "1                             [Frente, Victoria, PJ]\n",
      "2                           [Unión, Cívica, Radical]\n",
      "3                              [Compromiso, Federal]\n",
      "4                                [Frente, Renovador]\n",
      "6                                       [Unión, PRO]\n",
      "9                                    [Proyecto, Sur]\n",
      "11                                            [UNIR]\n",
      "15                             [Partido, Socialista]\n",
      "27                                  [U.De.So, Salta]\n",
      "29                   [Movimiento, Popular, Fueguino]\n",
      "31                          [PTS, Frente, Izquierda]\n",
      "32                  [Fte, Cívico, Social, Catamarca]\n",
      "34                                              [Fe]\n",
      "47                    [Coalición, Cívica, ARI, UNEN]\n",
      "48                                      [SUMA, UNEN]\n",
      "53                                  [Unión, Córdoba]\n",
      "61                   [Movimiento, Popular, Neuquino]\n",
      "66                              [Unión, Entre, Ríos]\n",
      "71                               [Trabajo, Dignidad]\n",
      "74                                 [Unidad, Popular]\n",
      "76                          [Unión, Celeste, Blanco]\n",
      "83                                     [Libres, Sur]\n",
      "85                                             [GEN]\n",
      "86                            [Conservador, Popular]\n",
      "90                               [Social, Cristiano]\n",
      "93               [Partido, Justicialista, La, Pampa]\n",
      "120             [Fte, Renov, Conc, Misiones, FPV-PJ]\n",
      "123                            [No, Integra, Bloque]\n",
      "125                                  [Solidario, SI]\n",
      "                             ...                    \n",
      "15218                 [Frente, Concordia, Misionero]\n",
      "15259     [Izquierda, Socialista, Frente, Izquierda]\n",
      "15273                                [Frente, Norte]\n",
      "15341                          [Salta, Somos, Todos]\n",
      "15342                             [Primero, Tucumán]\n",
      "15348                        [Compromiso, San, Juan]\n",
      "15349                          [Concertación, FORJA]\n",
      "15356                           [Avanzar, San, Luis]\n",
      "15359                             [Diálogo, Trabajo]\n",
      "15395                         [Chubut, Somos, Todos]\n",
      "15418                   [Libertad, Valores, Cambios]\n",
      "17609                                          [nan]\n",
      "63994                                          [PRO]\n",
      "63996                     [Todos, Juntos, San, Juan]\n",
      "64005                    [Partido, Justicia, Social]\n",
      "64022                             [Córdoba, Federal]\n",
      "64037                           [Evolución, Radical]\n",
      "64068                               [Somos, Mendoza]\n",
      "64085                             [Elijo, Catamarca]\n",
      "64137                       [Justicialista, Tucumán]\n",
      "64161                 [Córdoba, Trabajo, Producción]\n",
      "64173                             [Somos, San, Juan]\n",
      "64186              [Partido, Intransigente, Mendoza]\n",
      "64187                           [Primero, Argentina]\n",
      "64195                  [Nuevo, Espacio, Santafesino]\n",
      "74080                         [Bloque, Trabajadores]\n",
      "104090                       [Unidad, Justicialista]\n",
      "104095                              [Red, Argentina]\n",
      "104140         [Frente, Progresista, Cívico, Social]\n",
      "104279                                  [Protectora]\n",
      "Name: bloque, Length: 79, dtype: object\n"
     ]
    }
   ],
   "source": [
    "print(bloques_sin_stop_words)"
   ]
  },
  {
   "cell_type": "markdown",
   "metadata": {},
   "source": [
    "# NLTK Tags\n",
    "\n",
    "- CC coordinating conjunction\n",
    "- CD cardinal digit\n",
    "- DT determiner\n",
    "- EX existential there (like: “there is” … think of it like “there exists”)\n",
    "- FW foreign word\n",
    "- IN preposition/subordinating conjunction\n",
    "- JJ adjective ‘big’\n",
    "- JJR adjective, comparative ‘bigger’\n",
    "- JJS adjective, superlative ‘biggest’\n",
    "- LS list marker 1)\n",
    "- MD modal could, will\n",
    "- NN noun, singular ‘desk’\n",
    "- NNS noun plural ‘desks’\n",
    "- NNP proper noun, singular ‘Harrison’\n",
    "- NNPS proper noun, plural ‘Americans’\n",
    "- PDT predeterminer ‘all the kids’\n",
    "- POS possessive ending parent‘s\n",
    "- PRP personal pronoun I, he, she\n",
    "- PRP possessive pronoun my, his, hers\n",
    "- RB adverb very, silently,\n",
    "- RBR adverb, comparative better\n",
    "- RBS adverb, superlative best\n",
    "- RP particle give up\n",
    "- TO to go ‘to‘ the store.\n",
    "- UH interjection errrrrrrrm\n",
    "- VB verb, base form take\n",
    "- VBD verb, past tense took\n",
    "- VBG verb, gerund/present participle taking\n",
    "- VBN verb, past participle taken\n",
    "- VBP verb, sing. present, non-3d take\n",
    "- VBZ verb, 3rd person sing. present takes\n",
    "- WDT wh-determiner which\n",
    "- WP wh-pronoun who, what\n",
    "- WP possessive wh-pronoun whose\n",
    "- WRB wh-abverb where, when\n",
    "\n",
    "Source: https://www.geeksforgeeks.org/part-speech-tagging-stop-words-using-nltk-python/"
   ]
  },
  {
   "cell_type": "code",
   "execution_count": null,
   "metadata": {},
   "outputs": [],
   "source": []
  }
 ],
 "metadata": {
  "kernelspec": {
   "display_name": "Python 3",
   "language": "python",
   "name": "python3"
  },
  "language_info": {
   "codemirror_mode": {
    "name": "ipython",
    "version": 3
   },
   "file_extension": ".py",
   "mimetype": "text/x-python",
   "name": "python",
   "nbconvert_exporter": "python",
   "pygments_lexer": "ipython3",
   "version": "3.7.2"
  }
 },
 "nbformat": 4,
 "nbformat_minor": 1
}
