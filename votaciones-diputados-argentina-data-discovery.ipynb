{
 "cells": [
  {
   "cell_type": "markdown",
   "metadata": {
    "collapsed": true
   },
   "source": [
    "# Votaciones Diputados Argentina Data Discovery"
   ]
  },
  {
   "cell_type": "markdown",
   "metadata": {},
   "source": [
    "En este Jupyter Notebook, vamos a descubrir metadata sobre el dataset de las votaciones de legisladores argentinos. En este [link](https://github.com/nahuelhds/votaciones-diputados-argentina) se pueden encontrar más detalles sobre esto."
   ]
  },
  {
   "cell_type": "markdown",
   "metadata": {},
   "source": [
    "## Data Discovery\n",
    "Para explorar los datos se utilizará [Pandas](https://pandas.pydata.org/), una librería de Python muy conocida. "
   ]
  },
  {
   "cell_type": "markdown",
   "metadata": {},
   "source": [
    "Antes de empezar, algunos imports..."
   ]
  },
  {
   "cell_type": "code",
   "execution_count": 1,
   "metadata": {},
   "outputs": [],
   "source": [
    "import os\n",
    "import urllib.request\n",
    "import pandas as pd\n",
    "import plotly as py"
   ]
  },
  {
   "cell_type": "markdown",
   "metadata": {},
   "source": [
    "Y se declaran algunas variables útiles:"
   ]
  },
  {
   "cell_type": "code",
   "execution_count": 2,
   "metadata": {},
   "outputs": [],
   "source": [
    "import_directory = os.path.join(\"/tmp\", \"datasets\", \"votaciones\")\n",
    "\n",
    "dataset_base_url = \"https://raw.githubusercontent.com/nahuelhds/votaciones-diputados-argentina\"\n",
    "dataset_path = \"/master/csv/\"\n",
    "full_path = dataset_base_url + dataset_path\n",
    "\n",
    "# You can use as many datasets as you want here. They'll all be cached in your file system.\n",
    "datasets = [\n",
    "    \"votaciones_votos-2015.csv\",\n",
    "    \"votaciones_votos-2016.csv\",\n",
    "    \"votaciones_votos-2017.csv\",\n",
    "    \"votaciones_votos-2018.csv\"\n",
    "]"
   ]
  },
  {
   "cell_type": "markdown",
   "metadata": {},
   "source": [
    "Generamos metadata temporal sobre los datasets. Esta metadata es útil a la hora de descargar y cachear los datasets en el file system."
   ]
  },
  {
   "cell_type": "code",
   "execution_count": 3,
   "metadata": {},
   "outputs": [],
   "source": [
    "\n",
    "# { dataset: { url: http://..., file_name: /tmp/datasets/...} }\n",
    "datasets_metadata = {}\n",
    "\n",
    "# Populate dataset metadata.\n",
    "for dataset in datasets:\n",
    "    dataset_file_name = os.path.join(import_directory, dataset)\n",
    "    dataset_url = full_path + dataset\n",
    "    datasets_metadata.update({dataset: {\n",
    "        'url': dataset_url,\n",
    "        'file_name': dataset_file_name\n",
    "    }})"
   ]
  },
  {
   "cell_type": "code",
   "execution_count": 4,
   "metadata": {},
   "outputs": [],
   "source": [
    "def download_dataset( dataset_url, file_name):\n",
    "    print(\"Downloading \" + dataset_url + \" into \" + file_name)\n",
    "    urllib.request.urlretrieve(dataset_url, file_name)\n"
   ]
  },
  {
   "cell_type": "code",
   "execution_count": 5,
   "metadata": {},
   "outputs": [],
   "source": [
    "def download_datasets():\n",
    "    print(\"Downloading Datasets from \" + full_path)\n",
    "    for dataset in datasets:\n",
    "        dataset_metadata = datasets_metadata[dataset]\n",
    "        download_dataset(dataset_metadata.get('url'), dataset_metadata.get('file_name'))\n",
    "    print(\"Datasets downloaded\")\n"
   ]
  },
  {
   "cell_type": "code",
   "execution_count": 6,
   "metadata": {},
   "outputs": [],
   "source": [
    "def load_datasets():\n",
    "    dfs = []\n",
    "    for dataset in datasets:\n",
    "        dataset_filename = datasets_metadata[dataset].get('file_name')\n",
    "        if not dfs:\n",
    "            # first dataset with the headers\n",
    "            df = pd.read_csv(dataset_filename)\n",
    "        else:\n",
    "            # the rest without headers\n",
    "            df = pd.read_csv(dataset_filename, index_col=None, header=0)\n",
    "        dfs.append(df)\n",
    "    final_df = pd.concat(dfs, axis=0, ignore_index=True)\n",
    "    return final_df"
   ]
  },
  {
   "cell_type": "code",
   "execution_count": 7,
   "metadata": {},
   "outputs": [],
   "source": [
    "if not os.path.isdir(import_directory):\n",
    "    print(\"Creating tmp directory\")\n",
    "    os.makedirs(import_directory)\n",
    "    download_datasets()"
   ]
  },
  {
   "cell_type": "code",
   "execution_count": 8,
   "metadata": {},
   "outputs": [
    {
     "name": "stdout",
     "output_type": "stream",
     "text": [
      "##### Votos de ejemplo:#######\n",
      "       id  voting_id  legislador_id                         legislador  \\\n",
      "0  458450       1785           1156  ABDALA DE MATARAZZO, Norma Amanda   \n",
      "1  458451       1785           1337                 ABRAHAM, Alejandro   \n",
      "2  458452       1785            930                  AGUAD, Oscar Raúl   \n",
      "3  458453       1785           1247               AGUILAR, Lino Walter   \n",
      "4  458454       1785           1338             ALEGRE, Gilberto Oscar   \n",
      "\n",
      "   bloque_id                        bloque  provincia_id            provincia  \\\n",
      "0        119    Frente Cívico por Santiago            22  Santiago del Estero   \n",
      "1          1  Frente para la Victoria - PJ            13              Mendoza   \n",
      "2          6          Unión Cívica Radical             3              Córdoba   \n",
      "3        197            Compromiso Federal            19             San Luis   \n",
      "4         85              Frente Renovador             1         Buenos Aires   \n",
      "\n",
      "         voto  \n",
      "0  AFIRMATIVO  \n",
      "1  AFIRMATIVO  \n",
      "2     AUSENTE  \n",
      "3     AUSENTE  \n",
      "4     AUSENTE  \n",
      "\n",
      "#######Resumen del dataset######\n",
      "<class 'pandas.core.frame.DataFrame'>\n",
      "RangeIndex: 124131 entries, 0 to 124130\n",
      "Data columns (total 9 columns):\n",
      "id               124131 non-null int64\n",
      "voting_id        124131 non-null int64\n",
      "legislador_id    124131 non-null int64\n",
      "legislador       124131 non-null object\n",
      "bloque_id        124131 non-null int64\n",
      "bloque           124085 non-null object\n",
      "provincia_id     124131 non-null int64\n",
      "provincia        124131 non-null object\n",
      "voto             124131 non-null object\n",
      "dtypes: int64(5), object(4)\n",
      "memory usage: 8.5+ MB\n",
      "None\n"
     ]
    }
   ],
   "source": [
    "votos = load_datasets()\n",
    "print(\"##### Votos de ejemplo:#######\")\n",
    "print(votos.head())\n",
    "print(\"\\n#######Resumen del dataset######\")\n",
    "print(votos.info())"
   ]
  },
  {
   "cell_type": "markdown",
   "metadata": {},
   "source": [
    "Usando `plotly`, se pueden visualizar los votos del bloque o de un legislador:"
   ]
  },
  {
   "cell_type": "code",
   "execution_count": 9,
   "metadata": {},
   "outputs": [],
   "source": [
    "# set up de plotly\n",
    "import plotly as py\n",
    "import plotly.graph_objs as go\n",
    "from plotly.offline import iplot, init_notebook_mode\n",
    "import plotly.io as pio\n",
    "init_notebook_mode(connected=True)"
   ]
  },
  {
   "cell_type": "code",
   "execution_count": 11,
   "metadata": {},
   "outputs": [],
   "source": [
    "# Creamos tmp folder\n",
    "if not os.path.exists('images'):\n",
    "    os.mkdir('images')"
   ]
  },
  {
   "cell_type": "code",
   "execution_count": 68,
   "metadata": {},
   "outputs": [],
   "source": [
    "# De todos los campos solo queremos bloque y voto\n",
    "subset = votos.filter([\"bloque\", \"voto\"])\n",
    "\n",
    "positivos = subset['voto'] == 'AFIRMATIVO'\n",
    "negativos = subset['voto'] == 'NEGATIVO'\n",
    "ausentes = subset['voto'] == 'AUSENTE'"
   ]
  },
  {
   "cell_type": "code",
   "execution_count": 69,
   "metadata": {},
   "outputs": [],
   "source": [
    "# creamos 3 datasets: afirmativo, negativo y ausente\n",
    "positivos_por_bloque = subset[positivos].groupby('bloque')\n",
    "negativos_por_bloque = subset[negativos].groupby('bloque')\n",
    "ausentes_por_bloque = subset[ausentes].groupby('bloque')"
   ]
  },
  {
   "cell_type": "code",
   "execution_count": 70,
   "metadata": {},
   "outputs": [
    {
     "data": {
      "text/html": [
       "<div>\n",
       "        \n",
       "        \n",
       "            <div id=\"8c135a9f-5515-4930-912c-833f834e9eb6\" class=\"plotly-graph-div\" style=\"height:525px; width:100%;\"></div>\n",
       "            <script type=\"text/javascript\">\n",
       "                require([\"plotly\"], function(Plotly) {\n",
       "                    window.PLOTLYENV=window.PLOTLYENV || {};\n",
       "                    window.PLOTLYENV.BASE_URL='https://plot.ly';\n",
       "                    \n",
       "                if (document.getElementById(\"8c135a9f-5515-4930-912c-833f834e9eb6\")) {\n",
       "                    Plotly.newPlot(\n",
       "                        '8c135a9f-5515-4930-912c-833f834e9eb6',\n",
       "                        [{\"labels\": [\"Avanzar San Luis\", \"BG Juan B. Bustos\", \"Bloque de los Trabajadores\", \"Chubut Somos Todos\", \"Coalici\\u00f3n C\\u00edvica\", \"Coalici\\u00f3n C\\u00edvica - ARI - UNEN\", \"Compromiso Federal\", \"Compromiso con San Juan\", \"Concertaci\\u00f3n FORJA\", \"Conservador Popular\", \"Cultura, Educaci\\u00f3n y Trabajo\", \"C\\u00f3rdoba Federal\", \"C\\u00f3rdoba Trabajo y Producci\\u00f3n\", \"Del Bicentenario\", \"Dem\\u00f3crata de Mendoza\", \"Di\\u00e1logo y Trabajo\", \"Elijo Catamarca\", \"Evoluci\\u00f3n Radical\", \"Fe\", \"Federal Unidos por una Nueva Argentina\", \"Frente C\\u00edvico - C\\u00f3rdoba\", \"Frente C\\u00edvico por Santiago\", \"Frente Norte\", \"Frente Progresista C\\u00edvico y Social\", \"Frente Renovador\", \"Frente de la Concordia Misionero\", \"Frente para la Victoria - PJ\", \"Frente por la Inclusi\\u00f3n Social\", \"Fte. C\\u00edvico y Social de Catamarca\", \"Fte. Renov. de la Conc. Misiones - FPV-PJ\", \"Fte. de Izquierda y de los Trabajadores\", \"GEN\", \"Izquierda Socialista - Frente de Izquierda\", \"Juntos por Argentina\", \"Justicialista\", \"Justicialista por Tucum\\u00e1n\", \"Libertad y Democracia\", \"Libertad, Valores y Cambios\", \"Libres del Sur\", \"Movimiento Nacional Alfonsinista\", \"Movimiento Popular Fueguino\", \"Movimiento Popular Neuquino\", \"Movimiento Solidario Popular\", \"No Integra Bloque\", \"Nuevo Espacio Santafesino\", \"PRO\", \"PTS - Frente de Izquierda\", \"Partido Bloquista de San Juan\", \"Partido Dem\\u00f3crata Progresista\", \"Partido Intransigente de Mendoza\", \"Partido Justicialista La Pampa\", \"Partido Socialista\", \"Partido por la Justicia Social\", \"Peronismo mas al Sur\", \"Peronismo para la Victoria\", \"Primero Argentina\", \"Primero Tucum\\u00e1n\", \"Protectora\", \"Proyecto Sur\", \"Red por Argentina\", \"SUMA + UNEN\", \"Salta Somos Todos\", \"Social Cristiano\", \"Solidario SI\", \"Somos Mendoza\", \"Somos San Juan\", \"Todos Juntos por San Juan\", \"Trabajo y Dignidad\", \"U.De.So. Salta\", \"UNIR\", \"Unidad Justicialista\", \"Unidad Popular\", \"Unidos por una Nueva Argentina\", \"Uni\\u00f3n Celeste y Blanco\", \"Uni\\u00f3n C\\u00edvica Radical\", \"Uni\\u00f3n PRO\", \"Uni\\u00f3n por C\\u00f3rdoba\", \"Uni\\u00f3n por Entre R\\u00edos\"], \"title\": {\"text\": \"Votos Positivos\"}, \"type\": \"pie\", \"uid\": \"e8c971ed-6684-4424-b7fc-708ad0504de4\", \"values\": [198, 278, 12, 192, 1432, 73, 588, 196, 151, 27, 189, 294, 41, 363, 23, 195, 175, 211, 11, 6414, 37, 1936, 80, 23, 269, 883, 18503, 57, 565, 226, 285, 216, 39, 761, 4655, 177, 2, 241, 629, 47, 28, 633, 150, 4, 52, 3245, 226, 296, 273, 60, 58, 973, 62, 13, 762, 41, 196, 30, 171, 4, 43, 195, 52, 154, 67, 86, 94, 642, 25, 8, 191, 76, 1475, 2, 11730, 10248, 40, 284]}],\n",
       "                        {},\n",
       "                        {\"showLink\": false, \"linkText\": \"Export to plot.ly\", \"plotlyServerURL\": \"https://plot.ly\", \"responsive\": true}\n",
       "                    ).then(function(){\n",
       "                            \n",
       "var gd = document.getElementById('8c135a9f-5515-4930-912c-833f834e9eb6');\n",
       "var x = new MutationObserver(function (mutations, observer) {{\n",
       "        var display = window.getComputedStyle(gd).display;\n",
       "        if (!display || display === 'none') {{\n",
       "            console.log([gd, 'removed!']);\n",
       "            Plotly.purge(gd);\n",
       "            observer.disconnect();\n",
       "        }}\n",
       "}});\n",
       "\n",
       "// Listen for the removal of the full notebook cells\n",
       "var notebookContainer = gd.closest('#notebook-container');\n",
       "if (notebookContainer) {{\n",
       "    x.observe(notebookContainer, {childList: true});\n",
       "}}\n",
       "\n",
       "// Listen for the clearing of the current output cell\n",
       "var outputEl = gd.closest('.output');\n",
       "if (outputEl) {{\n",
       "    x.observe(outputEl, {childList: true});\n",
       "}}\n",
       "\n",
       "                        })\n",
       "                };\n",
       "                });\n",
       "            </script>\n",
       "        </div>"
      ]
     },
     "metadata": {},
     "output_type": "execute_result"
    }
   ],
   "source": [
    "# Realizamos el cuento de votos por bloque y graficamos\n",
    "positivos_count = positivos_por_bloque.agg('count')\n",
    "\n",
    "labels = positivos_count.index.values\n",
    "values = positivos_count.values.flatten()\n",
    "\n",
    "trace = go.Pie(labels=labels, values=values, title='Votos Positivos')\n",
    "\n",
    "py.offline.iplot([trace], filename='positivos')"
   ]
  },
  {
   "cell_type": "code",
   "execution_count": 63,
   "metadata": {},
   "outputs": [
    {
     "data": {
      "text/html": [
       "<div>\n",
       "        \n",
       "        \n",
       "            <div id=\"51f38713-e482-4c24-9878-03f1abec2e20\" class=\"plotly-graph-div\" style=\"height:525px; width:100%;\"></div>\n",
       "            <script type=\"text/javascript\">\n",
       "                require([\"plotly\"], function(Plotly) {\n",
       "                    window.PLOTLYENV=window.PLOTLYENV || {};\n",
       "                    window.PLOTLYENV.BASE_URL='https://plot.ly';\n",
       "                    \n",
       "                if (document.getElementById(\"51f38713-e482-4c24-9878-03f1abec2e20\")) {\n",
       "                    Plotly.newPlot(\n",
       "                        '51f38713-e482-4c24-9878-03f1abec2e20',\n",
       "                        [{\"labels\": [\"Avanzar San Luis\", \"BG Juan B. Bustos\", \"Bloque de los Trabajadores\", \"Chubut Somos Todos\", \"Coalici\\u00f3n C\\u00edvica\", \"Coalici\\u00f3n C\\u00edvica - ARI - UNEN\", \"Compromiso Federal\", \"Compromiso con San Juan\", \"Concertaci\\u00f3n FORJA\", \"Conservador Popular\", \"Cultura, Educaci\\u00f3n y Trabajo\", \"C\\u00f3rdoba Federal\", \"C\\u00f3rdoba Trabajo y Producci\\u00f3n\", \"Del Bicentenario\", \"Dem\\u00f3crata de Mendoza\", \"Di\\u00e1logo y Trabajo\", \"Elijo Catamarca\", \"Evoluci\\u00f3n Radical\", \"Fe\", \"Federal Unidos por una Nueva Argentina\", \"Frente C\\u00edvico - C\\u00f3rdoba\", \"Frente C\\u00edvico por Santiago\", \"Frente Norte\", \"Frente Progresista C\\u00edvico y Social\", \"Frente Renovador\", \"Frente de la Concordia Misionero\", \"Frente para la Victoria - PJ\", \"Frente por la Inclusi\\u00f3n Social\", \"Fte. C\\u00edvico y Social de Catamarca\", \"Fte. Renov. de la Conc. Misiones - FPV-PJ\", \"Fte. de Izquierda y de los Trabajadores\", \"GEN\", \"Izquierda Socialista - Frente de Izquierda\", \"Juntos por Argentina\", \"Justicialista\", \"Justicialista por Tucum\\u00e1n\", \"Libertad y Democracia\", \"Libertad, Valores y Cambios\", \"Libres del Sur\", \"Movimiento Nacional Alfonsinista\", \"Movimiento Popular Fueguino\", \"Movimiento Popular Neuquino\", \"Movimiento Solidario Popular\", \"No Integra Bloque\", \"Nuevo Espacio Santafesino\", \"PRO\", \"PTS - Frente de Izquierda\", \"Partido Bloquista de San Juan\", \"Partido Dem\\u00f3crata Progresista\", \"Partido Intransigente de Mendoza\", \"Partido Justicialista La Pampa\", \"Partido Socialista\", \"Partido por la Justicia Social\", \"Peronismo mas al Sur\", \"Peronismo para la Victoria\", \"Primero Argentina\", \"Primero Tucum\\u00e1n\", \"Protectora\", \"Proyecto Sur\", \"Red por Argentina\", \"SUMA + UNEN\", \"Salta Somos Todos\", \"Social Cristiano\", \"Solidario SI\", \"Somos Mendoza\", \"Somos San Juan\", \"Todos Juntos por San Juan\", \"Trabajo y Dignidad\", \"U.De.So. Salta\", \"UNIR\", \"Unidad Justicialista\", \"Unidad Popular\", \"Unidos por una Nueva Argentina\", \"Uni\\u00f3n Celeste y Blanco\", \"Uni\\u00f3n C\\u00edvica Radical\", \"Uni\\u00f3n PRO\", \"Uni\\u00f3n por C\\u00f3rdoba\", \"Uni\\u00f3n por Entre R\\u00edos\"], \"title\": {\"text\": \"Votos Negativos\"}, \"type\": \"pie\", \"uid\": \"92fa3259-8f28-43c4-883c-e90d7b89e431\", \"values\": [15, 50, 3, 15, 622, 65, 164, 9, 88, 22, 72, 51, 16, 50, 21, 12, 32, 70, 12, 619, 35, 189, 4, 9, 126, 115, 9276, 1, 151, 4, 533, 124, 61, 64, 534, 25, 1, 33, 213, 2, 4, 70, 94, 2, 33, 2738, 269, 39, 40, 21, 1, 373, 52, 9, 421, 14, 14, 1, 134, 16, 34, 40, 4, 75, 18, 16, 11, 55, 20, 5, 42, 25, 65, 9, 3734, 1793, 33, 23]}],\n",
       "                        {},\n",
       "                        {\"showLink\": false, \"linkText\": \"Export to plot.ly\", \"plotlyServerURL\": \"https://plot.ly\", \"responsive\": true}\n",
       "                    ).then(function(){\n",
       "                            \n",
       "var gd = document.getElementById('51f38713-e482-4c24-9878-03f1abec2e20');\n",
       "var x = new MutationObserver(function (mutations, observer) {{\n",
       "        var display = window.getComputedStyle(gd).display;\n",
       "        if (!display || display === 'none') {{\n",
       "            console.log([gd, 'removed!']);\n",
       "            Plotly.purge(gd);\n",
       "            observer.disconnect();\n",
       "        }}\n",
       "}});\n",
       "\n",
       "// Listen for the removal of the full notebook cells\n",
       "var notebookContainer = gd.closest('#notebook-container');\n",
       "if (notebookContainer) {{\n",
       "    x.observe(notebookContainer, {childList: true});\n",
       "}}\n",
       "\n",
       "// Listen for the clearing of the current output cell\n",
       "var outputEl = gd.closest('.output');\n",
       "if (outputEl) {{\n",
       "    x.observe(outputEl, {childList: true});\n",
       "}}\n",
       "\n",
       "                        })\n",
       "                };\n",
       "                });\n",
       "            </script>\n",
       "        </div>"
      ]
     },
     "metadata": {},
     "output_type": "execute_result"
    }
   ],
   "source": [
    "negativos_count = negativos_por_bloque.agg('count')\n",
    "\n",
    "labels = negativos_count.index.values\n",
    "values = negativos_count.values.flatten()\n",
    "\n",
    "trace = go.Pie(labels=labels, values=values, title='Votos Negativos')\n",
    "\n",
    "py.offline.iplot([trace], filename='negativos')"
   ]
  },
  {
   "cell_type": "code",
   "execution_count": 64,
   "metadata": {},
   "outputs": [
    {
     "data": {
      "text/html": [
       "<div>\n",
       "        \n",
       "        \n",
       "            <div id=\"f501a3b8-7511-4628-89da-6d653f00511c\" class=\"plotly-graph-div\" style=\"height:525px; width:100%;\"></div>\n",
       "            <script type=\"text/javascript\">\n",
       "                require([\"plotly\"], function(Plotly) {\n",
       "                    window.PLOTLYENV=window.PLOTLYENV || {};\n",
       "                    window.PLOTLYENV.BASE_URL='https://plot.ly';\n",
       "                    \n",
       "                if (document.getElementById(\"f501a3b8-7511-4628-89da-6d653f00511c\")) {\n",
       "                    Plotly.newPlot(\n",
       "                        'f501a3b8-7511-4628-89da-6d653f00511c',\n",
       "                        [{\"labels\": [\"Avanzar San Luis\", \"BG Juan B. Bustos\", \"Bloque de los Trabajadores\", \"Chubut Somos Todos\", \"Coalici\\u00f3n C\\u00edvica\", \"Coalici\\u00f3n C\\u00edvica - ARI - UNEN\", \"Compromiso Federal\", \"Compromiso con San Juan\", \"Concertaci\\u00f3n FORJA\", \"Conservador Popular\", \"Cultura, Educaci\\u00f3n y Trabajo\", \"C\\u00f3rdoba Federal\", \"C\\u00f3rdoba Trabajo y Producci\\u00f3n\", \"Del Bicentenario\", \"Dem\\u00f3crata de Mendoza\", \"Di\\u00e1logo y Trabajo\", \"Elijo Catamarca\", \"Evoluci\\u00f3n Radical\", \"Fe\", \"Federal Unidos por una Nueva Argentina\", \"Frente C\\u00edvico - C\\u00f3rdoba\", \"Frente C\\u00edvico por Santiago\", \"Frente Norte\", \"Frente Renovador\", \"Frente de la Concordia Misionero\", \"Frente para la Victoria - PJ\", \"Frente por la Inclusi\\u00f3n Social\", \"Fte. C\\u00edvico y Social de Catamarca\", \"Fte. Renov. de la Conc. Misiones - FPV-PJ\", \"Fte. de Izquierda y de los Trabajadores\", \"GEN\", \"Izquierda Socialista - Frente de Izquierda\", \"Juntos por Argentina\", \"Justicialista\", \"Justicialista por Tucum\\u00e1n\", \"Libertad y Democracia\", \"Libertad, Valores y Cambios\", \"Libres del Sur\", \"Movimiento Nacional Alfonsinista\", \"Movimiento Popular Fueguino\", \"Movimiento Popular Neuquino\", \"Movimiento Solidario Popular\", \"No Integra Bloque\", \"Nuevo Espacio Santafesino\", \"PRO\", \"PTS - Frente de Izquierda\", \"Partido Bloquista de San Juan\", \"Partido Dem\\u00f3crata Progresista\", \"Partido Socialista\", \"Partido por la Justicia Social\", \"Peronismo mas al Sur\", \"Peronismo para la Victoria\", \"Primero Argentina\", \"Primero Tucum\\u00e1n\", \"Proyecto Sur\", \"SUMA + UNEN\", \"Salta Somos Todos\", \"Social Cristiano\", \"Solidario SI\", \"Somos Mendoza\", \"Somos San Juan\", \"Todos Juntos por San Juan\", \"Trabajo y Dignidad\", \"U.De.So. Salta\", \"UNIR\", \"Unidad Justicialista\", \"Unidad Popular\", \"Unidos por una Nueva Argentina\", \"Uni\\u00f3n Celeste y Blanco\", \"Uni\\u00f3n C\\u00edvica Radical\", \"Uni\\u00f3n PRO\", \"Uni\\u00f3n por C\\u00f3rdoba\", \"Uni\\u00f3n por Entre R\\u00edos\"], \"title\": {\"text\": \"Votos Ausentes\"}, \"type\": \"pie\", \"uid\": \"c72f1b85-f49f-4b0a-a582-e8591ae13f0c\", \"values\": [93, 68, 83, 132, 444, 96, 565, 102, 181, 9, 204, 111, 54, 191, 10, 96, 25, 50, 35, 1818, 46, 816, 39, 490, 327, 8053, 1, 316, 34, 55, 191, 7, 322, 2050, 118, 31, 25, 226, 10, 27, 202, 117, 49, 28, 438, 67, 80, 12, 385, 3, 36, 655, 61, 106, 49, 40, 179, 21, 177, 29, 13, 9, 132, 11, 45, 66, 68, 267, 48, 2216, 1654, 102, 54]}],\n",
       "                        {},\n",
       "                        {\"showLink\": false, \"linkText\": \"Export to plot.ly\", \"plotlyServerURL\": \"https://plot.ly\", \"responsive\": true}\n",
       "                    ).then(function(){\n",
       "                            \n",
       "var gd = document.getElementById('f501a3b8-7511-4628-89da-6d653f00511c');\n",
       "var x = new MutationObserver(function (mutations, observer) {{\n",
       "        var display = window.getComputedStyle(gd).display;\n",
       "        if (!display || display === 'none') {{\n",
       "            console.log([gd, 'removed!']);\n",
       "            Plotly.purge(gd);\n",
       "            observer.disconnect();\n",
       "        }}\n",
       "}});\n",
       "\n",
       "// Listen for the removal of the full notebook cells\n",
       "var notebookContainer = gd.closest('#notebook-container');\n",
       "if (notebookContainer) {{\n",
       "    x.observe(notebookContainer, {childList: true});\n",
       "}}\n",
       "\n",
       "// Listen for the clearing of the current output cell\n",
       "var outputEl = gd.closest('.output');\n",
       "if (outputEl) {{\n",
       "    x.observe(outputEl, {childList: true});\n",
       "}}\n",
       "\n",
       "                        })\n",
       "                };\n",
       "                });\n",
       "            </script>\n",
       "        </div>"
      ]
     },
     "metadata": {},
     "output_type": "execute_result"
    }
   ],
   "source": [
    "ausentes_count = ausentes_por_bloque.agg('count')\n",
    "\n",
    "labels = ausentes_count.index.values\n",
    "values = ausentes_count.values.flatten()\n",
    "\n",
    "trace = go.Pie(labels=labels, values=values, title='Votos Ausentes')\n",
    "\n",
    "py.offline.iplot([trace], filename='ausentes')"
   ]
  },
  {
   "cell_type": "code",
   "execution_count": null,
   "metadata": {},
   "outputs": [],
   "source": []
  }
 ],
 "metadata": {
  "kernelspec": {
   "display_name": "Python 3",
   "language": "python",
   "name": "python3"
  },
  "language_info": {
   "codemirror_mode": {
    "name": "ipython",
    "version": 3
   },
   "file_extension": ".py",
   "mimetype": "text/x-python",
   "name": "python",
   "nbconvert_exporter": "python",
   "pygments_lexer": "ipython3",
   "version": "3.7.2"
  }
 },
 "nbformat": 4,
 "nbformat_minor": 1
}
